{
 "cells": [
  {
   "cell_type": "code",
   "execution_count": null,
   "metadata": {},
   "outputs": [],
   "source": [
    "import tensorflow as tf\n",
    "device_name = tf.test.gpu_device_name()\n",
    "if device_name != '/device:GPU:0':\n",
    "  raise SystemError('GPU no encontrada')\n",
    "print('Encontrada GPU: {}'.format(device_name))"
   ]
  },
  {
   "cell_type": "code",
   "execution_count": null,
   "metadata": {},
   "outputs": [],
   "source": [
    "import os\n",
    "import zipfile\n",
    "from pydrive.auth import GoogleAuth\n",
    "from pydrive.drive import GoogleDrive\n",
    "from google.colab import auth\n",
    "from oauth2client.client import GoogleCredentials\n",
    "import time\n",
    "auth.authenticate_user()\n",
    "gauth = GoogleAuth()\n",
    "gauth.credentials = GoogleCredentials.get_application_default()\n",
    "drive = GoogleDrive(gauth)"
   ]
  },
  {
   "cell_type": "code",
   "execution_count": null,
   "metadata": {},
   "outputs": [],
   "source": [
    "download = drive.CreateFile({'id': '1vdpVv56BCgtk2mpWvK_2QVR8NClcmXmK'})\n",
    "download.GetContentFile('colab_256.zip')"
   ]
  },
  {
   "cell_type": "code",
   "execution_count": null,
   "metadata": {},
   "outputs": [],
   "source": [
    "!unzip colab_256.zip"
   ]
  },
  {
   "cell_type": "code",
   "execution_count": null,
   "metadata": {},
   "outputs": [],
   "source": [
    "import tensorflow\n",
    "from keras.datasets import mnist\n",
    "from keras.models import Sequential\n",
    "from keras.layers import Dense, Dropout, Flatten\n",
    "from keras.layers import Conv2D, MaxPooling2D\n",
    "from keras import backend as K\n",
    "import glob\n",
    "import os\n",
    "from PIL import Image\n",
    "import cv2\n",
    "import numpy as np\n",
    "import matplotlib.pyplot as plt\n",
    "import keras\n",
    "import pandas as pd\n",
    "import time\n",
    "import cv2\n",
    "import json\n",
    "import time\n",
    "from os import listdir\n",
    "import matplotlib.pyplot as plt\n",
    "from sklearn.model_selection import train_test_split \n",
    "from sklearn.preprocessing import LabelBinarizer\n",
    "from keras.models import Sequential,load_model\n",
    "from keras.layers.normalization import BatchNormalization\n",
    "from keras.layers.convolutional import MaxPooling2D,Conv2D\n",
    "from keras.layers.core import Activation, Flatten, Dropout, Dense\n",
    "from keras import backend as K\n",
    "from keras.optimizers import Adam\n",
    "from keras.preprocessing.image import img_to_array, ImageDataGenerator, image\n",
    "from keras.callbacks import ModelCheckpoint\n",
    "from sklearn.model_selection import train_test_split"
   ]
  },
  {
   "cell_type": "code",
   "execution_count": null,
   "metadata": {},
   "outputs": [],
   "source": [
    "art_types = [\"cubism_256/\",\"expressionism_256/\",\"fauvism_256_espejo/\",\"pointillism_256_espejo/\",\"pop_art_256_espejo/\",'ukiyo_256']"
   ]
  },
  {
   "cell_type": "code",
   "execution_count": null,
   "metadata": {},
   "outputs": [],
   "source": [
    "# esta funcion en este colab no se utiliza\n",
    "def obtener_Ruta(carpeta):\n",
    "    first = '/content/colab_256/imagenes_extraidas/'\n",
    "    last = '*.jpg'\n",
    "    result = first + carpeta + last\n",
    "    return result"
   ]
  },
  {
   "cell_type": "code",
   "execution_count": null,
   "metadata": {},
   "outputs": [],
   "source": [
    "diccionario = {'cubism_256/':0,\n",
    "               'expressionism_256/':1,\n",
    "               \"fauvism_256_espejo/\":2,\n",
    "               \"pointillism_256_espejo/\":3,\n",
    "               \"pop_art_256_espejo/\":4,\n",
    "               'ukiyo_256/':5            \n",
    "               }\n",
    "               \n",
    "# función que me va a crear todas las listas de mis carpetas\n",
    "def create_train_test(art_types):\n",
    "  art_type = []  \n",
    "  for x in glob.glob('/content/colab_256/imagenes_extraidas/{}/*'.format(art_types)):\n",
    "    art_type.append(x)\n",
    "  art_type_train = art_type[: int(len(art_type) * .81)]\n",
    "  art_type_test = art_type[int(len(art_type) * .81) : ]\n",
    "  return art_type_test, art_type_train\n"
   ]
  },
  {
   "cell_type": "code",
   "execution_count": null,
   "metadata": {},
   "outputs": [],
   "source": [
    "# manera limpia de crear las listas de nombres train y test\n",
    "train_names = []\n",
    "test_names = []14\n",
    "for e in diccionario:\n",
    "  train_names += create_train_test(e)[1]\n",
    "  test_names += create_train_test(e)[0]\n",
    "\n",
    "len(train_names), len(test_names)"
   ]
  },
  {
   "cell_type": "code",
   "execution_count": null,
   "metadata": {},
   "outputs": [],
   "source": [
    "# ejemplo de como crear y\n",
    "\n",
    "\"\"\"diccionario = {'cubism_256':0,\n",
    "               'expressionism_256':1,\n",
    "               \"fauvism_256_espejo\":2,\n",
    "               \"pointillism_256_espejo\":3,\n",
    "               \"pop_art_256_espejo\":4,\n",
    "               'ukiyo_256':5            \n",
    "               }\n",
    "\n",
    "y_test_list = []\n",
    "for x in test_names:\n",
    "  y_test_list.append(diccionario[x.split(\"/\")[4]])\n",
    "\n",
    "y_test = np.array(y_test_list)\n",
    "y_test.shape\"\"\""
   ]
  },
  {
   "cell_type": "code",
   "execution_count": null,
   "metadata": {},
   "outputs": [],
   "source": [
    "diccionario = {'cubism_256':0,\n",
    "               'expressionism_256':1,\n",
    "               \"fauvism_256_espejo\":2,\n",
    "               \"pointillism_256_espejo\":3,\n",
    "               \"pop_art_256_espejo\":4,\n",
    "               'ukiyo_256':5            \n",
    "               }\n",
    "\n",
    "X_test_list = []\n",
    "\n",
    "for x in train_names:\n",
    "  X_test_list.append(diccionario[x.split(\"/\")[4]])\n",
    "\n",
    "X_test_list"
   ]
  },
  {
   "cell_type": "code",
   "execution_count": null,
   "metadata": {},
   "outputs": [],
   "source": []
  }
 ],
 "metadata": {
  "kernelspec": {
   "display_name": "Python 3",
   "language": "python",
   "name": "python3"
  },
  "language_info": {
   "codemirror_mode": {
    "name": "ipython",
    "version": 3
   },
   "file_extension": ".py",
   "mimetype": "text/x-python",
   "name": "python",
   "nbconvert_exporter": "python",
   "pygments_lexer": "ipython3",
   "version": "3.7.5"
  }
 },
 "nbformat": 4,
 "nbformat_minor": 2
}
